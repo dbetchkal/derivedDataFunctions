{
 "cells": [
  {
   "cell_type": "markdown",
   "metadata": {},
   "source": [
    "# demonstration of `derivedDataFunctions`module\n",
    "#### Davyd_Betchkal@nps.gov, 05/15/2017\n",
    "#### repository for `derivedDataFunctions` here;  https://github.com/dbetchkal/derivedDataFunctions/tree/master\n",
    "\n",
    "---\n",
    "\n",
    "### for this code to work, you must download *derivedDataFunctions.py* and place it in the same directory as the notebook file\n"
   ]
  },
  {
   "cell_type": "code",
   "execution_count": 1,
   "metadata": {
    "collapsed": false
   },
   "outputs": [],
   "source": [
    "import soundDB\n",
    "import iyore\n",
    "import pandas as pd\n",
    "import numpy as np\n",
    "import matplotlib.pyplot as plt\n",
    "\n",
    "from derivedDataFunctions import *  \n",
    "\n",
    "ds = iyore.Dataset(r\"K:\\AKRO Soundscape Data\") # change this path, keep the 'r' in front"
   ]
  },
  {
   "cell_type": "markdown",
   "metadata": {},
   "source": [
    "### you can get documentation on any function in this way:\n",
    "(see the GitHub repository for the full function list:  https://github.com/dbetchkal/derivedDataFunctions/tree/master)"
   ]
  },
  {
   "cell_type": "code",
   "execution_count": 24,
   "metadata": {
    "collapsed": false
   },
   "outputs": [
    {
     "name": "stdout",
     "output_type": "stream",
     "text": [
      "Help on function quantile_NFI in module derivedDataFunctions:\n",
      "\n",
      "quantile_NFI(srcid, q, source='all', unit='hours')\n",
      "    Returns the average NFI for selected source type.\n",
      "    \n",
      "    Parameters\n",
      "    ----------\n",
      "    srcid: str, a single site specifier in the format \"UNITSITEYYYY\"\n",
      "    q: float, a value that indicates the quantile desired, from 0.0 (minimum) to 1.0 (maximum.)   \n",
      "    source: str or float, optional.  Which subset of srcid codes to summarize - choose either \"all\", \"air\", or specify a specific srcID code as a float.  Defaults to \"all\" if unspecified.\n",
      "    unit: str, a value that indicates the units desired for the output value.  Defaults to \"hours\".\n",
      "    \n",
      "    Returns\n",
      "    -------\n",
      "    numpy.float64\n",
      "\n"
     ]
    }
   ],
   "source": [
    "help(quantile_NFI)"
   ]
  },
  {
   "cell_type": "code",
   "execution_count": 37,
   "metadata": {
    "collapsed": false
   },
   "outputs": [
    {
     "name": "stderr",
     "output_type": "stream",
     "text": [
      "100%|███████████████████████████████████████████████████████████████████████████████████████████████████| 1/1 [00:00<00:00, 33.33entries/s]\n"
     ]
    },
    {
     "data": {
      "text/plain": [
       "0.54041666666666677"
      ]
     },
     "execution_count": 37,
     "metadata": {},
     "output_type": "execute_result"
    }
   ],
   "source": [
    "srcid = soundDB.srcid(ds, site=\"NIZI\").combine() # load a srcid file that has both aircraft and snowmachines\n",
    "\n",
    "quantile_NFI(srcid, 0.5) # default units are hours\n",
    "# quantile_NFI(srcid, 0.5, unit=\"minutes\") # but we can change it to minutes\n",
    "# quantile_NFI(srcid, 0.5, unit=\"minutes\", source=\"air\") # say we want the average time between aircraft\n",
    "# quantile_NFI(srcid, 0.5, unit=\"minutes\", source=4.1) # or just between snowmachines"
   ]
  },
  {
   "cell_type": "code",
   "execution_count": 56,
   "metadata": {
    "collapsed": false,
    "scrolled": true
   },
   "outputs": [
    {
     "name": "stderr",
     "output_type": "stream",
     "text": [
      "Error while parsing \"K:\\AKRO Soundscape Data\\2010 KATM002 Brooks Camp Generators\\02 ANALYSIS\\SPL Analysis\\SRCID_KATM002.txt\":\n",
      "Traceback (most recent call last):\n",
      "  File \"C:\\Users\\DBetchkal\\AppData\\Local\\Continuum\\Anaconda3\\envs\\soundDB\\lib\\site-packages\\soundDB\\accessor.py\", line 499, in iterate\n",
      "    data = self.parse(entry, state= state) if state is not None else self.parse(entry)\n",
      "  File \"C:\\Users\\DBetchkal\\AppData\\Local\\Continuum\\Anaconda3\\envs\\soundDB\\lib\\site-packages\\soundDB\\parsers.py\", line 260, in parse\n",
      "    parse_dates= False)\n",
      "  File \"C:\\Users\\DBetchkal\\AppData\\Local\\Continuum\\Anaconda3\\envs\\soundDB\\lib\\site-packages\\pandas\\io\\parsers.py\", line 562, in parser_f\n",
      "    return _read(filepath_or_buffer, kwds)\n",
      "  File \"C:\\Users\\DBetchkal\\AppData\\Local\\Continuum\\Anaconda3\\envs\\soundDB\\lib\\site-packages\\pandas\\io\\parsers.py\", line 325, in _read\n",
      "    return parser.read()\n",
      "  File \"C:\\Users\\DBetchkal\\AppData\\Local\\Continuum\\Anaconda3\\envs\\soundDB\\lib\\site-packages\\pandas\\io\\parsers.py\", line 815, in read\n",
      "    ret = self._engine.read(nrows)\n",
      "  File \"C:\\Users\\DBetchkal\\AppData\\Local\\Continuum\\Anaconda3\\envs\\soundDB\\lib\\site-packages\\pandas\\io\\parsers.py\", line 1314, in read\n",
      "    data = self._reader.read(nrows)\n",
      "  File \"pandas\\parser.pyx\", line 805, in pandas.parser.TextReader.read (pandas\\parser.c:8748)\n",
      "  File \"pandas\\parser.pyx\", line 827, in pandas.parser.TextReader._read_low_memory (pandas\\parser.c:9003)\n",
      "  File \"pandas\\parser.pyx\", line 881, in pandas.parser.TextReader._read_rows (pandas\\parser.c:9731)\n",
      "  File \"pandas\\parser.pyx\", line 868, in pandas.parser.TextReader._tokenize_rows (pandas\\parser.c:9602)\n",
      "  File \"pandas\\parser.pyx\", line 1865, in pandas.parser.raise_parser_error (pandas\\parser.c:23325)\n",
      "pandas.io.common.CParserError: Error tokenizing data. C error: Expected 11 fields in line 481, saw 21\n",
      "\n",
      "\n",
      "Error while parsing \"K:\\AKRO Soundscape Data\\2012 DENABULL Bull River\\02 ANALYSIS\\SPL Analysis\\SRCID_DENABULL.txt\":\n",
      "Traceback (most recent call last):\n",
      "  File \"C:\\Users\\DBetchkal\\AppData\\Local\\Continuum\\Anaconda3\\envs\\soundDB\\lib\\site-packages\\soundDB\\accessor.py\", line 499, in iterate\n",
      "    data = self.parse(entry, state= state) if state is not None else self.parse(entry)\n",
      "  File \"C:\\Users\\DBetchkal\\AppData\\Local\\Continuum\\Anaconda3\\envs\\soundDB\\lib\\site-packages\\soundDB\\parsers.py\", line 283, in parse\n",
      "    converted = pd.to_numeric(data[['MaxSPLt', 'SELt']], errors= \"coerce\")\n",
      "  File \"C:\\Users\\DBetchkal\\AppData\\Local\\Continuum\\Anaconda3\\envs\\soundDB\\lib\\site-packages\\pandas\\tools\\util.py\", line 101, in to_numeric\n",
      "    raise TypeError('arg must be a list, tuple, 1-d array, or Series')\n",
      "TypeError: arg must be a list, tuple, 1-d array, or Series\n",
      "\n",
      "Error while parsing \"K:\\AKRO Soundscape Data\\2013 DENABICR Birch Creek\\02 ANALYSIS\\SPL Analysis\\SRCID_DENABICR.txt\":\n",
      "Traceback (most recent call last):\n",
      "  File \"C:\\Users\\DBetchkal\\AppData\\Local\\Continuum\\Anaconda3\\envs\\soundDB\\lib\\site-packages\\soundDB\\accessor.py\", line 499, in iterate\n",
      "    data = self.parse(entry, state= state) if state is not None else self.parse(entry)\n",
      "  File \"C:\\Users\\DBetchkal\\AppData\\Local\\Continuum\\Anaconda3\\envs\\soundDB\\lib\\site-packages\\soundDB\\parsers.py\", line 283, in parse\n",
      "    converted = pd.to_numeric(data[['MaxSPLt', 'SELt']], errors= \"coerce\")\n",
      "  File \"C:\\Users\\DBetchkal\\AppData\\Local\\Continuum\\Anaconda3\\envs\\soundDB\\lib\\site-packages\\pandas\\tools\\util.py\", line 101, in to_numeric\n",
      "    raise TypeError('arg must be a list, tuple, 1-d array, or Series')\n",
      "TypeError: arg must be a list, tuple, 1-d array, or Series\n",
      "\n",
      "Error while parsing \"K:\\AKRO Soundscape Data\\2013 NOATAGGI Agashashok River\\02 ANALYSIS\\SPL Analysis\\SRCID_NOATAGGI.txt\":\n",
      "Traceback (most recent call last):\n",
      "  File \"C:\\Users\\DBetchkal\\AppData\\Local\\Continuum\\Anaconda3\\envs\\soundDB\\lib\\site-packages\\soundDB\\accessor.py\", line 499, in iterate\n",
      "    data = self.parse(entry, state= state) if state is not None else self.parse(entry)\n",
      "  File \"C:\\Users\\DBetchkal\\AppData\\Local\\Continuum\\Anaconda3\\envs\\soundDB\\lib\\site-packages\\soundDB\\parsers.py\", line 283, in parse\n",
      "    converted = pd.to_numeric(data[['MaxSPLt', 'SELt']], errors= \"coerce\")\n",
      "  File \"C:\\Users\\DBetchkal\\AppData\\Local\\Continuum\\Anaconda3\\envs\\soundDB\\lib\\site-packages\\pandas\\tools\\util.py\", line 101, in to_numeric\n",
      "    raise TypeError('arg must be a list, tuple, 1-d array, or Series')\n",
      "TypeError: arg must be a list, tuple, 1-d array, or Series\n",
      "\n",
      "Error while parsing \"K:\\AKRO Soundscape Data\\2013 NOATKUGU Kugurorok River\\02 ANALYSIS\\SPL Analysis\\SRCID_NOATKUGU.txt\":\n",
      "Traceback (most recent call last):\n",
      "  File \"C:\\Users\\DBetchkal\\AppData\\Local\\Continuum\\Anaconda3\\envs\\soundDB\\lib\\site-packages\\soundDB\\accessor.py\", line 499, in iterate\n",
      "    data = self.parse(entry, state= state) if state is not None else self.parse(entry)\n",
      "  File \"C:\\Users\\DBetchkal\\AppData\\Local\\Continuum\\Anaconda3\\envs\\soundDB\\lib\\site-packages\\soundDB\\parsers.py\", line 283, in parse\n",
      "    converted = pd.to_numeric(data[['MaxSPLt', 'SELt']], errors= \"coerce\")\n",
      "  File \"C:\\Users\\DBetchkal\\AppData\\Local\\Continuum\\Anaconda3\\envs\\soundDB\\lib\\site-packages\\pandas\\tools\\util.py\", line 101, in to_numeric\n",
      "    raise TypeError('arg must be a list, tuple, 1-d array, or Series')\n",
      "TypeError: arg must be a list, tuple, 1-d array, or Series\n",
      "\n",
      "Error while parsing \"K:\\AKRO Soundscape Data\\2014 DENAHOTS Hot Slough\\02 ANALYSIS\\SPL Analysis\\SRCID_DENAHOTS.txt\":\n",
      "Traceback (most recent call last):\n",
      "  File \"C:\\Users\\DBetchkal\\AppData\\Local\\Continuum\\Anaconda3\\envs\\soundDB\\lib\\site-packages\\soundDB\\accessor.py\", line 499, in iterate\n",
      "    data = self.parse(entry, state= state) if state is not None else self.parse(entry)\n",
      "  File \"C:\\Users\\DBetchkal\\AppData\\Local\\Continuum\\Anaconda3\\envs\\soundDB\\lib\\site-packages\\soundDB\\parsers.py\", line 283, in parse\n",
      "    converted = pd.to_numeric(data[['MaxSPLt', 'SELt']], errors= \"coerce\")\n",
      "  File \"C:\\Users\\DBetchkal\\AppData\\Local\\Continuum\\Anaconda3\\envs\\soundDB\\lib\\site-packages\\pandas\\tools\\util.py\", line 101, in to_numeric\n",
      "    raise TypeError('arg must be a list, tuple, 1-d array, or Series')\n",
      "TypeError: arg must be a list, tuple, 1-d array, or Series\n",
      "\n",
      "Error while parsing \"K:\\AKRO Soundscape Data\\2014 DENAPAIN Park Airstrip\\02 ANALYSIS\\SPL Analysis\\SRCID_DENAPAIN.txt\":\n",
      "Traceback (most recent call last):\n",
      "  File \"C:\\Users\\DBetchkal\\AppData\\Local\\Continuum\\Anaconda3\\envs\\soundDB\\lib\\site-packages\\soundDB\\accessor.py\", line 499, in iterate\n",
      "    data = self.parse(entry, state= state) if state is not None else self.parse(entry)\n",
      "  File \"C:\\Users\\DBetchkal\\AppData\\Local\\Continuum\\Anaconda3\\envs\\soundDB\\lib\\site-packages\\soundDB\\parsers.py\", line 283, in parse\n",
      "    converted = pd.to_numeric(data[['MaxSPLt', 'SELt']], errors= \"coerce\")\n",
      "  File \"C:\\Users\\DBetchkal\\AppData\\Local\\Continuum\\Anaconda3\\envs\\soundDB\\lib\\site-packages\\pandas\\tools\\util.py\", line 101, in to_numeric\n",
      "    raise TypeError('arg must be a list, tuple, 1-d array, or Series')\n",
      "TypeError: arg must be a list, tuple, 1-d array, or Series\n",
      "\n",
      "Error while parsing \"K:\\AKRO Soundscape Data\\2014 DENAYEGL Yentna Glacier\\02 ANALYSIS\\SPL Analysis\\SRCID_DENAYEGL.txt\":\n",
      "Traceback (most recent call last):\n",
      "  File \"C:\\Users\\DBetchkal\\AppData\\Local\\Continuum\\Anaconda3\\envs\\soundDB\\lib\\site-packages\\soundDB\\accessor.py\", line 499, in iterate\n",
      "    data = self.parse(entry, state= state) if state is not None else self.parse(entry)\n",
      "  File \"C:\\Users\\DBetchkal\\AppData\\Local\\Continuum\\Anaconda3\\envs\\soundDB\\lib\\site-packages\\soundDB\\parsers.py\", line 283, in parse\n",
      "    converted = pd.to_numeric(data[['MaxSPLt', 'SELt']], errors= \"coerce\")\n",
      "  File \"C:\\Users\\DBetchkal\\AppData\\Local\\Continuum\\Anaconda3\\envs\\soundDB\\lib\\site-packages\\pandas\\tools\\util.py\", line 101, in to_numeric\n",
      "    raise TypeError('arg must be a list, tuple, 1-d array, or Series')\n",
      "TypeError: arg must be a list, tuple, 1-d array, or Series\n",
      "\n",
      "Error while parsing \"K:\\AKRO Soundscape Data\\2014 GAARMWAL Mid Walker Lake\\02 ANALYSIS\\SPL Analysis\\SRCID_GAARMWAL.txt\":\n",
      "Traceback (most recent call last):\n",
      "  File \"C:\\Users\\DBetchkal\\AppData\\Local\\Continuum\\Anaconda3\\envs\\soundDB\\lib\\site-packages\\soundDB\\accessor.py\", line 499, in iterate\n",
      "    data = self.parse(entry, state= state) if state is not None else self.parse(entry)\n",
      "  File \"C:\\Users\\DBetchkal\\AppData\\Local\\Continuum\\Anaconda3\\envs\\soundDB\\lib\\site-packages\\soundDB\\parsers.py\", line 283, in parse\n",
      "    converted = pd.to_numeric(data[['MaxSPLt', 'SELt']], errors= \"coerce\")\n",
      "  File \"C:\\Users\\DBetchkal\\AppData\\Local\\Continuum\\Anaconda3\\envs\\soundDB\\lib\\site-packages\\pandas\\tools\\util.py\", line 101, in to_numeric\n",
      "    raise TypeError('arg must be a list, tuple, 1-d array, or Series')\n",
      "TypeError: arg must be a list, tuple, 1-d array, or Series\n",
      "\n",
      "Error while parsing \"K:\\AKRO Soundscape Data\\2014 GAARNNUT North Nutuvukti Lake\\02 ANALYSIS\\SPL Analysis\\SRCID_GAARNNUT.txt\":\n",
      "Traceback (most recent call last):\n",
      "  File \"C:\\Users\\DBetchkal\\AppData\\Local\\Continuum\\Anaconda3\\envs\\soundDB\\lib\\site-packages\\soundDB\\accessor.py\", line 499, in iterate\n",
      "    data = self.parse(entry, state= state) if state is not None else self.parse(entry)\n",
      "  File \"C:\\Users\\DBetchkal\\AppData\\Local\\Continuum\\Anaconda3\\envs\\soundDB\\lib\\site-packages\\soundDB\\parsers.py\", line 283, in parse\n",
      "    converted = pd.to_numeric(data[['MaxSPLt', 'SELt']], errors= \"coerce\")\n",
      "  File \"C:\\Users\\DBetchkal\\AppData\\Local\\Continuum\\Anaconda3\\envs\\soundDB\\lib\\site-packages\\pandas\\tools\\util.py\", line 101, in to_numeric\n",
      "    raise TypeError('arg must be a list, tuple, 1-d array, or Series')\n",
      "TypeError: arg must be a list, tuple, 1-d array, or Series\n",
      "\n",
      "Error while parsing \"K:\\AKRO Soundscape Data\\2014 GAARSELB Selby lake\\02 ANALYSIS\\SPL Analysis\\SRCID_GAARSELB.txt\":\n",
      "Traceback (most recent call last):\n",
      "  File \"C:\\Users\\DBetchkal\\AppData\\Local\\Continuum\\Anaconda3\\envs\\soundDB\\lib\\site-packages\\soundDB\\accessor.py\", line 499, in iterate\n",
      "    data = self.parse(entry, state= state) if state is not None else self.parse(entry)\n",
      "  File \"C:\\Users\\DBetchkal\\AppData\\Local\\Continuum\\Anaconda3\\envs\\soundDB\\lib\\site-packages\\soundDB\\parsers.py\", line 283, in parse\n",
      "    converted = pd.to_numeric(data[['MaxSPLt', 'SELt']], errors= \"coerce\")\n",
      "  File \"C:\\Users\\DBetchkal\\AppData\\Local\\Continuum\\Anaconda3\\envs\\soundDB\\lib\\site-packages\\pandas\\tools\\util.py\", line 101, in to_numeric\n",
      "    raise TypeError('arg must be a list, tuple, 1-d array, or Series')\n",
      "TypeError: arg must be a list, tuple, 1-d array, or Series\n",
      "\n",
      "Error while parsing \"K:\\AKRO Soundscape Data\\2014 NOATSAPN Sapun Creek\\02 ANALYSIS\\SPL Analysis\\SRCID_NOATSAPN.txt\":\n",
      "Traceback (most recent call last):\n",
      "  File \"C:\\Users\\DBetchkal\\AppData\\Local\\Continuum\\Anaconda3\\envs\\soundDB\\lib\\site-packages\\soundDB\\accessor.py\", line 499, in iterate\n",
      "    data = self.parse(entry, state= state) if state is not None else self.parse(entry)\n",
      "  File \"C:\\Users\\DBetchkal\\AppData\\Local\\Continuum\\Anaconda3\\envs\\soundDB\\lib\\site-packages\\soundDB\\parsers.py\", line 283, in parse\n",
      "    converted = pd.to_numeric(data[['MaxSPLt', 'SELt']], errors= \"coerce\")\n",
      "  File \"C:\\Users\\DBetchkal\\AppData\\Local\\Continuum\\Anaconda3\\envs\\soundDB\\lib\\site-packages\\pandas\\tools\\util.py\", line 101, in to_numeric\n",
      "    raise TypeError('arg must be a list, tuple, 1-d array, or Series')\n",
      "TypeError: arg must be a list, tuple, 1-d array, or Series\n",
      "\n",
      "Error while parsing \"K:\\AKRO Soundscape Data\\2015 KATMSWLA Swikshak Lagoon\\02 ANALYSIS\\SPL Analysis\\SRCID_KATMSWLA.txt\":\n",
      "Traceback (most recent call last):\n",
      "  File \"C:\\Users\\DBetchkal\\AppData\\Local\\Continuum\\Anaconda3\\envs\\soundDB\\lib\\site-packages\\soundDB\\accessor.py\", line 499, in iterate\n",
      "    data = self.parse(entry, state= state) if state is not None else self.parse(entry)\n",
      "  File \"C:\\Users\\DBetchkal\\AppData\\Local\\Continuum\\Anaconda3\\envs\\soundDB\\lib\\site-packages\\soundDB\\parsers.py\", line 283, in parse\n",
      "    converted = pd.to_numeric(data[['MaxSPLt', 'SELt']], errors= \"coerce\")\n",
      "  File \"C:\\Users\\DBetchkal\\AppData\\Local\\Continuum\\Anaconda3\\envs\\soundDB\\lib\\site-packages\\pandas\\tools\\util.py\", line 101, in to_numeric\n",
      "    raise TypeError('arg must be a list, tuple, 1-d array, or Series')\n",
      "TypeError: arg must be a list, tuple, 1-d array, or Series\n",
      "\n",
      "Error while parsing \"K:\\AKRO Soundscape Data\\2015 KATMVTTS Valley of Ten-Thousand Smokes\\02 ANALYSIS\\SPL Analysis\\SRCID_KATMVTTS.txt\":\n",
      "Traceback (most recent call last):\n",
      "  File \"C:\\Users\\DBetchkal\\AppData\\Local\\Continuum\\Anaconda3\\envs\\soundDB\\lib\\site-packages\\soundDB\\accessor.py\", line 499, in iterate\n",
      "    data = self.parse(entry, state= state) if state is not None else self.parse(entry)\n",
      "  File \"C:\\Users\\DBetchkal\\AppData\\Local\\Continuum\\Anaconda3\\envs\\soundDB\\lib\\site-packages\\soundDB\\parsers.py\", line 283, in parse\n",
      "    converted = pd.to_numeric(data[['MaxSPLt', 'SELt']], errors= \"coerce\")\n",
      "  File \"C:\\Users\\DBetchkal\\AppData\\Local\\Continuum\\Anaconda3\\envs\\soundDB\\lib\\site-packages\\pandas\\tools\\util.py\", line 101, in to_numeric\n",
      "    raise TypeError('arg must be a list, tuple, 1-d array, or Series')\n",
      "TypeError: arg must be a list, tuple, 1-d array, or Series\n",
      "\n",
      "Error while parsing \"K:\\AKRO Soundscape Data\\2016 KATMDORI Douglas River\\02 ANALYSIS\\SPL Analysis\\SRCID_KATMDORI.txt\":\n",
      "Traceback (most recent call last):\n",
      "  File \"C:\\Users\\DBetchkal\\AppData\\Local\\Continuum\\Anaconda3\\envs\\soundDB\\lib\\site-packages\\soundDB\\accessor.py\", line 499, in iterate\n",
      "    data = self.parse(entry, state= state) if state is not None else self.parse(entry)\n",
      "  File \"C:\\Users\\DBetchkal\\AppData\\Local\\Continuum\\Anaconda3\\envs\\soundDB\\lib\\site-packages\\soundDB\\parsers.py\", line 283, in parse\n",
      "    converted = pd.to_numeric(data[['MaxSPLt', 'SELt']], errors= \"coerce\")\n",
      "  File \"C:\\Users\\DBetchkal\\AppData\\Local\\Continuum\\Anaconda3\\envs\\soundDB\\lib\\site-packages\\pandas\\tools\\util.py\", line 101, in to_numeric\n",
      "    raise TypeError('arg must be a list, tuple, 1-d array, or Series')\n",
      "TypeError: arg must be a list, tuple, 1-d array, or Series\n",
      "\n",
      "Error while parsing \"K:\\AKRO Soundscape Data\\2016 KATMHALO Hallo Bay\\02 ANALYSIS\\SPL Analysis\\SRCID_KATMHALO.txt\":\n",
      "Traceback (most recent call last):\n",
      "  File \"C:\\Users\\DBetchkal\\AppData\\Local\\Continuum\\Anaconda3\\envs\\soundDB\\lib\\site-packages\\soundDB\\accessor.py\", line 499, in iterate\n",
      "    data = self.parse(entry, state= state) if state is not None else self.parse(entry)\n",
      "  File \"C:\\Users\\DBetchkal\\AppData\\Local\\Continuum\\Anaconda3\\envs\\soundDB\\lib\\site-packages\\soundDB\\parsers.py\", line 283, in parse\n",
      "    converted = pd.to_numeric(data[['MaxSPLt', 'SELt']], errors= \"coerce\")\n",
      "  File \"C:\\Users\\DBetchkal\\AppData\\Local\\Continuum\\Anaconda3\\envs\\soundDB\\lib\\site-packages\\pandas\\tools\\util.py\", line 101, in to_numeric\n",
      "    raise TypeError('arg must be a list, tuple, 1-d array, or Series')\n",
      "TypeError: arg must be a list, tuple, 1-d array, or Series\n",
      "\n",
      "Error while parsing \"K:\\AKRO Soundscape Data\\2016 KATMKABA Katmai Bay\\02 ANALYSIS\\SPL Analysis\\SRCID_KATMKABA.txt\":\n",
      "Traceback (most recent call last):\n",
      "  File \"C:\\Users\\DBetchkal\\AppData\\Local\\Continuum\\Anaconda3\\envs\\soundDB\\lib\\site-packages\\soundDB\\accessor.py\", line 499, in iterate\n",
      "    data = self.parse(entry, state= state) if state is not None else self.parse(entry)\n",
      "  File \"C:\\Users\\DBetchkal\\AppData\\Local\\Continuum\\Anaconda3\\envs\\soundDB\\lib\\site-packages\\soundDB\\parsers.py\", line 283, in parse\n",
      "    converted = pd.to_numeric(data[['MaxSPLt', 'SELt']], errors= \"coerce\")\n",
      "  File \"C:\\Users\\DBetchkal\\AppData\\Local\\Continuum\\Anaconda3\\envs\\soundDB\\lib\\site-packages\\pandas\\tools\\util.py\", line 101, in to_numeric\n",
      "    raise TypeError('arg must be a list, tuple, 1-d array, or Series')\n",
      "TypeError: arg must be a list, tuple, 1-d array, or Series\n",
      "\n"
     ]
    }
   ],
   "source": [
    "# we can use iyore to get the sites that have data for each type:\n",
    "ds.srcid.values(\"site\")\n",
    "\n",
    "# this code gives you the mean NFI for all sites considering only aviation sources:\n",
    "NFIs = [(entry.unit + entry.site, mean_NFI(srcid, source=\"air\")) for entry, srcid in soundDB.srcid(ds, site=ds.nvspl.values(\"site\"))]\n",
    "\n",
    "# you might get some error messages - that's OK"
   ]
  },
  {
   "cell_type": "code",
   "execution_count": 57,
   "metadata": {
    "collapsed": false,
    "scrolled": true
   },
   "outputs": [
    {
     "data": {
      "text/plain": [
       "[('DENA7MIL', 2.6528129395218008),\n",
       " ('DENATOKO', 0.72491401112797171),\n",
       " ('DENABASE', 0.39355067410506739),\n",
       " ('DENAMBAR', 1.3945810457516339),\n",
       " ('DENATOKO', 0.61658099688473511),\n",
       " ('DENAUEFK', 0.52100170701427684),\n",
       " ('DENACARB', 11.836917249417247),\n",
       " ('DENAFOGG', 0.91700971463266545),\n",
       " ('DENAHEAL', 3.4534455207815871),\n",
       " ('DENAMULD', 3.0605037957211874),\n",
       " ('DENARUGL', 0.49415755919854282),\n",
       " ('DENAWFYR', 1.0800152329749106),\n",
       " ('DENABEAR', 3.8629590017825319),\n",
       " ('DENABLCR', 1.0989036113276176),\n",
       " ('DENACATH', 1.7591599642537983),\n",
       " ('DENACHCR', 3.7422361111111111),\n",
       " ('DENAHIDR', 1.2266517138256268),\n",
       " ('DENAKAHP', 0.53544379340277781),\n",
       " ('DENALEFK', 1.9071630045192458),\n",
       " ('DENALELD', 3.1793106291222735),\n",
       " ('DENAMcLE', 1.7096734693877551),\n",
       " ('DENAPICA', 1.0335355902777779),\n",
       " ('DENAHICR', 13.889183333333333),\n",
       " ('DENATKAH', 1.8914454732510291),\n",
       " ('DENATOKO', 0.76627937485740361),\n",
       " ('DENAUPWC', 1.4312785185185184),\n",
       " ('DENAUSLC', 1.1163589967920677),\n",
       " ('DENACEAK', 2.6897967479674798),\n",
       " ('DENAHERI', 7.9621601654846348),\n",
       " ('DENALSLC', 3.1972780501089328),\n",
       " ('DENATRLA', 0.56439053230719893),\n",
       " ('DENAUTOK', 2.5540810402879366),\n",
       " ('DENAUTRA', 0.33940277777777783),\n",
       " ('DENAUWBT', 1.3614045096441185),\n",
       " ('DENAVABM', 12.082351532567047),\n",
       " ('DENAWEBU', 0.29030501089324623),\n",
       " ('KEFJ005', 27.42896701388889),\n",
       " ('KEFJ006', 6.8032065217391313),\n",
       " ('DENABELA', 2.7072063142437592),\n",
       " ('DENAKAHP', 0.76689154984423691),\n",
       " ('DENALKAR', 2.5920985663082439),\n",
       " ('DENAMYRT', 4.2508551423324148),\n",
       " ('DENATOKO', 1.3886616666666669),\n",
       " ('DENAUDAL', 6.5716044776119409),\n",
       " ('DENAUOHI', 2.326790311653117),\n",
       " ('DENAUWFY', 16.150246913580244),\n",
       " ('DENAWEBU', 1.152558870598994),\n",
       " ('KATM001', 0.75852573904179399),\n",
       " ('KATM003', 0.58422496570644722),\n",
       " ('KATM005', 0.25350546855580408),\n",
       " ('KATM006', 0.14035196905766528),\n",
       " ('KATM007', 0.1625042908762421),\n",
       " ('DENAESTO', 2.8508746130030964),\n",
       " ('DENAFANG', 0.66918001186239617),\n",
       " ('DENAHEGL', 7.2925099206349193),\n",
       " ('DENAMBAR', 1.7961433952111918),\n",
       " ('DENANTRL', 0.063738540520718728),\n",
       " ('DENASTAM', 4.0633244087460954),\n",
       " ('DENAUKAH', 0.31052951388888889),\n",
       " ('DENAWEKH', 1.0184157754010694),\n",
       " ('DENACATH', 1.0018952826133678),\n",
       " ('DENADUNK', 0.00027777777777777778),\n",
       " ('DENAEFK1', nan),\n",
       " ('DENAHIG1', 1.2885324074074076),\n",
       " ('DENAHIG2', nan),\n",
       " ('DENAHOG2', nan),\n",
       " ('DENAHOG3', nan),\n",
       " ('DENAIGL1', nan),\n",
       " ('DENAINES', 0.95082375478927195),\n",
       " ('DENAKICH', 2.7572131147540984),\n",
       " ('DENAPOL2', nan),\n",
       " ('DENASAN3', nan),\n",
       " ('DENASUSH', 3.0292313845258869),\n",
       " ('DENATKAN', 0.73677963849016481),\n",
       " ('DENAUWBT', 1.1711535234899328),\n",
       " ('DENAUYEN', 4.5915608465608466),\n",
       " ('DENACABN', 2.6584074074074073),\n",
       " ('DENACARL', 0.74909368191721126),\n",
       " ('DENAFANG', 0.74099580041284074),\n",
       " ('DENAFLUM', 3.6994625907314345),\n",
       " ('DENAIGL1', nan),\n",
       " ('DENAINES', 1.9477906378600822),\n",
       " ('DENAMLEE', 1.6339824771007563),\n",
       " ('DENAUPEL', 1.3823100023100021),\n",
       " ('GAARWALK', 3.3903277378097525),\n",
       " ('DENABACK', 0.43305869724578483),\n",
       " ('DENABLCR', 1.706927495291902),\n",
       " ('DENAHAUK', 2.3042272727272719),\n",
       " ('DENALDAL', 3.4784674329501919),\n",
       " ('DENASTAM', 2.1565656094527363),\n",
       " ('GAARNARV', 7.4880019493177397),\n",
       " ('GAARNUTU', 5.8361453576864522),\n",
       " ('GAARNWAL', 14.474848008385743),\n",
       " ('NOATKUGU', 5.4682896825396812),\n",
       " ('DENAMURI', 1.5030042955326464),\n",
       " ('DENAWOCR', 4.8412095290654893),\n",
       " ('KATMPFMI', 1.0520438192970041),\n",
       " ('WRSTBLMT', 3.4808362962962964),\n",
       " ('WRSTTALA', 4.4894511494252871),\n",
       " ('DENAFOGG', 0.68426408561536034),\n",
       " ('DENAHEAL', 0.62418486171761278),\n",
       " ('DENAMULD', 1.2771158900836319),\n",
       " ('DENATOKO', 0.71790097031963473),\n",
       " ('DENATOKO', 0.71790097031963473),\n",
       " ('GAARANAK', 1.4252169505271695),\n",
       " ('KATMAMCR', 0.3262898336153412),\n",
       " ('KATMDUPO', 0.49421862712054826),\n",
       " ('KATMJOJO', 1.1755728356661483),\n",
       " ('WRSTCOPA', 3.3503176979374585),\n",
       " ('WRSTNIZI', 1.7352174365376611)]"
      ]
     },
     "execution_count": 57,
     "metadata": {},
     "output_type": "execute_result"
    }
   ],
   "source": [
    "# when I ran this I noticed both my minimum and maximum values appear to be erroneous...  ...that was helpful!\n",
    "NFIs"
   ]
  },
  {
   "cell_type": "code",
   "execution_count": 58,
   "metadata": {
    "collapsed": false
   },
   "outputs": [
    {
     "name": "stdout",
     "output_type": "stream",
     "text": [
      "Help on function L90 in module derivedDataFunctions:\n",
      "\n",
      "L90(metrics, season='Summer', weight='A')\n",
      "    Returns the sound pressure level that was exceeded during 90% of the sampling period.  The 10th percentile SPL.\n",
      "    \n",
      "    Parameters\n",
      "    ----------\n",
      "    metrics: str, a single site specifier in the format \"UNITSITEYYYY\"\n",
      "    season: the season for which the metric is desired:  \"Summer\", \"Fall\", \"Winter\", \"Spring\" all case-sensitive.  Defaults to \"Summer\".\n",
      "    weight: str, optional.  The acoustic weighting used to calculate Lmax, either \"A\" or \"T\". Defaults to \"A\" if unspecified.  \n",
      "    \n",
      "    Returns\n",
      "    -------\n",
      "    formatted float\n",
      "\n"
     ]
    }
   ],
   "source": [
    "help(L90)"
   ]
  },
  {
   "cell_type": "code",
   "execution_count": 42,
   "metadata": {
    "collapsed": false
   },
   "outputs": [
    {
     "name": "stderr",
     "output_type": "stream",
     "text": [
      "100%|███████████████████████████████████████████████████████████████████████████████████████████████████| 1/1 [00:00<00:00,  6.65entries/s]\n"
     ]
    },
    {
     "data": {
      "text/plain": [
       "17.3"
      ]
     },
     "execution_count": 42,
     "metadata": {},
     "output_type": "execute_result"
    }
   ],
   "source": [
    "L90(soundDB.metrics(ds, site=\"WEKH\").combine())"
   ]
  },
  {
   "cell_type": "markdown",
   "metadata": {},
   "source": [
    "\n",
    "# More cookbook recipes..."
   ]
  },
  {
   "cell_type": "code",
   "execution_count": 62,
   "metadata": {
    "collapsed": false,
    "scrolled": true
   },
   "outputs": [
    {
     "name": "stderr",
     "output_type": "stream",
     "text": [
      "Error while parsing \"K:\\AKRO Soundscape Data\\2010 KATM002 Brooks Camp Generators\\02 ANALYSIS\\SPL Analysis\\SRCID_KATM002.txt\":\n",
      "Traceback (most recent call last):\n",
      "  File \"C:\\Users\\DBetchkal\\AppData\\Local\\Continuum\\Anaconda3\\envs\\soundDB\\lib\\site-packages\\soundDB\\accessor.py\", line 499, in iterate\n",
      "    data = self.parse(entry, state= state) if state is not None else self.parse(entry)\n",
      "  File \"C:\\Users\\DBetchkal\\AppData\\Local\\Continuum\\Anaconda3\\envs\\soundDB\\lib\\site-packages\\soundDB\\parsers.py\", line 260, in parse\n",
      "    parse_dates= False)\n",
      "  File \"C:\\Users\\DBetchkal\\AppData\\Local\\Continuum\\Anaconda3\\envs\\soundDB\\lib\\site-packages\\pandas\\io\\parsers.py\", line 562, in parser_f\n",
      "    return _read(filepath_or_buffer, kwds)\n",
      "  File \"C:\\Users\\DBetchkal\\AppData\\Local\\Continuum\\Anaconda3\\envs\\soundDB\\lib\\site-packages\\pandas\\io\\parsers.py\", line 325, in _read\n",
      "    return parser.read()\n",
      "  File \"C:\\Users\\DBetchkal\\AppData\\Local\\Continuum\\Anaconda3\\envs\\soundDB\\lib\\site-packages\\pandas\\io\\parsers.py\", line 815, in read\n",
      "    ret = self._engine.read(nrows)\n",
      "  File \"C:\\Users\\DBetchkal\\AppData\\Local\\Continuum\\Anaconda3\\envs\\soundDB\\lib\\site-packages\\pandas\\io\\parsers.py\", line 1314, in read\n",
      "    data = self._reader.read(nrows)\n",
      "  File \"pandas\\parser.pyx\", line 805, in pandas.parser.TextReader.read (pandas\\parser.c:8748)\n",
      "  File \"pandas\\parser.pyx\", line 827, in pandas.parser.TextReader._read_low_memory (pandas\\parser.c:9003)\n",
      "  File \"pandas\\parser.pyx\", line 881, in pandas.parser.TextReader._read_rows (pandas\\parser.c:9731)\n",
      "  File \"pandas\\parser.pyx\", line 868, in pandas.parser.TextReader._tokenize_rows (pandas\\parser.c:9602)\n",
      "  File \"pandas\\parser.pyx\", line 1865, in pandas.parser.raise_parser_error (pandas\\parser.c:23325)\n",
      "pandas.io.common.CParserError: Error tokenizing data. C error: Expected 11 fields in line 481, saw 21\n",
      "\n",
      "\n",
      "Error while parsing \"K:\\AKRO Soundscape Data\\2012 DENABULL Bull River\\02 ANALYSIS\\SPL Analysis\\SRCID_DENABULL.txt\":\n",
      "Traceback (most recent call last):\n",
      "  File \"C:\\Users\\DBetchkal\\AppData\\Local\\Continuum\\Anaconda3\\envs\\soundDB\\lib\\site-packages\\soundDB\\accessor.py\", line 499, in iterate\n",
      "    data = self.parse(entry, state= state) if state is not None else self.parse(entry)\n",
      "  File \"C:\\Users\\DBetchkal\\AppData\\Local\\Continuum\\Anaconda3\\envs\\soundDB\\lib\\site-packages\\soundDB\\parsers.py\", line 283, in parse\n",
      "    converted = pd.to_numeric(data[['MaxSPLt', 'SELt']], errors= \"coerce\")\n",
      "  File \"C:\\Users\\DBetchkal\\AppData\\Local\\Continuum\\Anaconda3\\envs\\soundDB\\lib\\site-packages\\pandas\\tools\\util.py\", line 101, in to_numeric\n",
      "    raise TypeError('arg must be a list, tuple, 1-d array, or Series')\n",
      "TypeError: arg must be a list, tuple, 1-d array, or Series\n",
      "\n",
      "Error while parsing \"K:\\AKRO Soundscape Data\\2013 DENABICR Birch Creek\\02 ANALYSIS\\SPL Analysis\\SRCID_DENABICR.txt\":\n",
      "Traceback (most recent call last):\n",
      "  File \"C:\\Users\\DBetchkal\\AppData\\Local\\Continuum\\Anaconda3\\envs\\soundDB\\lib\\site-packages\\soundDB\\accessor.py\", line 499, in iterate\n",
      "    data = self.parse(entry, state= state) if state is not None else self.parse(entry)\n",
      "  File \"C:\\Users\\DBetchkal\\AppData\\Local\\Continuum\\Anaconda3\\envs\\soundDB\\lib\\site-packages\\soundDB\\parsers.py\", line 283, in parse\n",
      "    converted = pd.to_numeric(data[['MaxSPLt', 'SELt']], errors= \"coerce\")\n",
      "  File \"C:\\Users\\DBetchkal\\AppData\\Local\\Continuum\\Anaconda3\\envs\\soundDB\\lib\\site-packages\\pandas\\tools\\util.py\", line 101, in to_numeric\n",
      "    raise TypeError('arg must be a list, tuple, 1-d array, or Series')\n",
      "TypeError: arg must be a list, tuple, 1-d array, or Series\n",
      "\n",
      "Error while parsing \"K:\\AKRO Soundscape Data\\2013 NOATAGGI Agashashok River\\02 ANALYSIS\\SPL Analysis\\SRCID_NOATAGGI.txt\":\n",
      "Traceback (most recent call last):\n",
      "  File \"C:\\Users\\DBetchkal\\AppData\\Local\\Continuum\\Anaconda3\\envs\\soundDB\\lib\\site-packages\\soundDB\\accessor.py\", line 499, in iterate\n",
      "    data = self.parse(entry, state= state) if state is not None else self.parse(entry)\n",
      "  File \"C:\\Users\\DBetchkal\\AppData\\Local\\Continuum\\Anaconda3\\envs\\soundDB\\lib\\site-packages\\soundDB\\parsers.py\", line 283, in parse\n",
      "    converted = pd.to_numeric(data[['MaxSPLt', 'SELt']], errors= \"coerce\")\n",
      "  File \"C:\\Users\\DBetchkal\\AppData\\Local\\Continuum\\Anaconda3\\envs\\soundDB\\lib\\site-packages\\pandas\\tools\\util.py\", line 101, in to_numeric\n",
      "    raise TypeError('arg must be a list, tuple, 1-d array, or Series')\n",
      "TypeError: arg must be a list, tuple, 1-d array, or Series\n",
      "\n",
      "Error while parsing \"K:\\AKRO Soundscape Data\\2013 NOATKUGU Kugurorok River\\02 ANALYSIS\\SPL Analysis\\SRCID_NOATKUGU.txt\":\n",
      "Traceback (most recent call last):\n",
      "  File \"C:\\Users\\DBetchkal\\AppData\\Local\\Continuum\\Anaconda3\\envs\\soundDB\\lib\\site-packages\\soundDB\\accessor.py\", line 499, in iterate\n",
      "    data = self.parse(entry, state= state) if state is not None else self.parse(entry)\n",
      "  File \"C:\\Users\\DBetchkal\\AppData\\Local\\Continuum\\Anaconda3\\envs\\soundDB\\lib\\site-packages\\soundDB\\parsers.py\", line 283, in parse\n",
      "    converted = pd.to_numeric(data[['MaxSPLt', 'SELt']], errors= \"coerce\")\n",
      "  File \"C:\\Users\\DBetchkal\\AppData\\Local\\Continuum\\Anaconda3\\envs\\soundDB\\lib\\site-packages\\pandas\\tools\\util.py\", line 101, in to_numeric\n",
      "    raise TypeError('arg must be a list, tuple, 1-d array, or Series')\n",
      "TypeError: arg must be a list, tuple, 1-d array, or Series\n",
      "\n",
      "Error while parsing \"K:\\AKRO Soundscape Data\\2014 DENAHOTS Hot Slough\\02 ANALYSIS\\SPL Analysis\\SRCID_DENAHOTS.txt\":\n",
      "Traceback (most recent call last):\n",
      "  File \"C:\\Users\\DBetchkal\\AppData\\Local\\Continuum\\Anaconda3\\envs\\soundDB\\lib\\site-packages\\soundDB\\accessor.py\", line 499, in iterate\n",
      "    data = self.parse(entry, state= state) if state is not None else self.parse(entry)\n",
      "  File \"C:\\Users\\DBetchkal\\AppData\\Local\\Continuum\\Anaconda3\\envs\\soundDB\\lib\\site-packages\\soundDB\\parsers.py\", line 283, in parse\n",
      "    converted = pd.to_numeric(data[['MaxSPLt', 'SELt']], errors= \"coerce\")\n",
      "  File \"C:\\Users\\DBetchkal\\AppData\\Local\\Continuum\\Anaconda3\\envs\\soundDB\\lib\\site-packages\\pandas\\tools\\util.py\", line 101, in to_numeric\n",
      "    raise TypeError('arg must be a list, tuple, 1-d array, or Series')\n",
      "TypeError: arg must be a list, tuple, 1-d array, or Series\n",
      "\n",
      "Error while parsing \"K:\\AKRO Soundscape Data\\2014 DENAPAIN Park Airstrip\\02 ANALYSIS\\SPL Analysis\\SRCID_DENAPAIN.txt\":\n",
      "Traceback (most recent call last):\n",
      "  File \"C:\\Users\\DBetchkal\\AppData\\Local\\Continuum\\Anaconda3\\envs\\soundDB\\lib\\site-packages\\soundDB\\accessor.py\", line 499, in iterate\n",
      "    data = self.parse(entry, state= state) if state is not None else self.parse(entry)\n",
      "  File \"C:\\Users\\DBetchkal\\AppData\\Local\\Continuum\\Anaconda3\\envs\\soundDB\\lib\\site-packages\\soundDB\\parsers.py\", line 283, in parse\n",
      "    converted = pd.to_numeric(data[['MaxSPLt', 'SELt']], errors= \"coerce\")\n",
      "  File \"C:\\Users\\DBetchkal\\AppData\\Local\\Continuum\\Anaconda3\\envs\\soundDB\\lib\\site-packages\\pandas\\tools\\util.py\", line 101, in to_numeric\n",
      "    raise TypeError('arg must be a list, tuple, 1-d array, or Series')\n",
      "TypeError: arg must be a list, tuple, 1-d array, or Series\n",
      "\n",
      "Error while parsing \"K:\\AKRO Soundscape Data\\2014 DENAYEGL Yentna Glacier\\02 ANALYSIS\\SPL Analysis\\SRCID_DENAYEGL.txt\":\n",
      "Traceback (most recent call last):\n",
      "  File \"C:\\Users\\DBetchkal\\AppData\\Local\\Continuum\\Anaconda3\\envs\\soundDB\\lib\\site-packages\\soundDB\\accessor.py\", line 499, in iterate\n",
      "    data = self.parse(entry, state= state) if state is not None else self.parse(entry)\n",
      "  File \"C:\\Users\\DBetchkal\\AppData\\Local\\Continuum\\Anaconda3\\envs\\soundDB\\lib\\site-packages\\soundDB\\parsers.py\", line 283, in parse\n",
      "    converted = pd.to_numeric(data[['MaxSPLt', 'SELt']], errors= \"coerce\")\n",
      "  File \"C:\\Users\\DBetchkal\\AppData\\Local\\Continuum\\Anaconda3\\envs\\soundDB\\lib\\site-packages\\pandas\\tools\\util.py\", line 101, in to_numeric\n",
      "    raise TypeError('arg must be a list, tuple, 1-d array, or Series')\n",
      "TypeError: arg must be a list, tuple, 1-d array, or Series\n",
      "\n",
      "Error while parsing \"K:\\AKRO Soundscape Data\\2014 GAARMWAL Mid Walker Lake\\02 ANALYSIS\\SPL Analysis\\SRCID_GAARMWAL.txt\":\n",
      "Traceback (most recent call last):\n",
      "  File \"C:\\Users\\DBetchkal\\AppData\\Local\\Continuum\\Anaconda3\\envs\\soundDB\\lib\\site-packages\\soundDB\\accessor.py\", line 499, in iterate\n",
      "    data = self.parse(entry, state= state) if state is not None else self.parse(entry)\n",
      "  File \"C:\\Users\\DBetchkal\\AppData\\Local\\Continuum\\Anaconda3\\envs\\soundDB\\lib\\site-packages\\soundDB\\parsers.py\", line 283, in parse\n",
      "    converted = pd.to_numeric(data[['MaxSPLt', 'SELt']], errors= \"coerce\")\n",
      "  File \"C:\\Users\\DBetchkal\\AppData\\Local\\Continuum\\Anaconda3\\envs\\soundDB\\lib\\site-packages\\pandas\\tools\\util.py\", line 101, in to_numeric\n",
      "    raise TypeError('arg must be a list, tuple, 1-d array, or Series')\n",
      "TypeError: arg must be a list, tuple, 1-d array, or Series\n",
      "\n",
      "Error while parsing \"K:\\AKRO Soundscape Data\\2014 GAARNNUT North Nutuvukti Lake\\02 ANALYSIS\\SPL Analysis\\SRCID_GAARNNUT.txt\":\n",
      "Traceback (most recent call last):\n",
      "  File \"C:\\Users\\DBetchkal\\AppData\\Local\\Continuum\\Anaconda3\\envs\\soundDB\\lib\\site-packages\\soundDB\\accessor.py\", line 499, in iterate\n",
      "    data = self.parse(entry, state= state) if state is not None else self.parse(entry)\n",
      "  File \"C:\\Users\\DBetchkal\\AppData\\Local\\Continuum\\Anaconda3\\envs\\soundDB\\lib\\site-packages\\soundDB\\parsers.py\", line 283, in parse\n",
      "    converted = pd.to_numeric(data[['MaxSPLt', 'SELt']], errors= \"coerce\")\n",
      "  File \"C:\\Users\\DBetchkal\\AppData\\Local\\Continuum\\Anaconda3\\envs\\soundDB\\lib\\site-packages\\pandas\\tools\\util.py\", line 101, in to_numeric\n",
      "    raise TypeError('arg must be a list, tuple, 1-d array, or Series')\n",
      "TypeError: arg must be a list, tuple, 1-d array, or Series\n",
      "\n",
      "Error while parsing \"K:\\AKRO Soundscape Data\\2014 GAARSELB Selby lake\\02 ANALYSIS\\SPL Analysis\\SRCID_GAARSELB.txt\":\n",
      "Traceback (most recent call last):\n",
      "  File \"C:\\Users\\DBetchkal\\AppData\\Local\\Continuum\\Anaconda3\\envs\\soundDB\\lib\\site-packages\\soundDB\\accessor.py\", line 499, in iterate\n",
      "    data = self.parse(entry, state= state) if state is not None else self.parse(entry)\n",
      "  File \"C:\\Users\\DBetchkal\\AppData\\Local\\Continuum\\Anaconda3\\envs\\soundDB\\lib\\site-packages\\soundDB\\parsers.py\", line 283, in parse\n",
      "    converted = pd.to_numeric(data[['MaxSPLt', 'SELt']], errors= \"coerce\")\n",
      "  File \"C:\\Users\\DBetchkal\\AppData\\Local\\Continuum\\Anaconda3\\envs\\soundDB\\lib\\site-packages\\pandas\\tools\\util.py\", line 101, in to_numeric\n",
      "    raise TypeError('arg must be a list, tuple, 1-d array, or Series')\n",
      "TypeError: arg must be a list, tuple, 1-d array, or Series\n",
      "\n",
      "Error while parsing \"K:\\AKRO Soundscape Data\\2014 NOATSAPN Sapun Creek\\02 ANALYSIS\\SPL Analysis\\SRCID_NOATSAPN.txt\":\n",
      "Traceback (most recent call last):\n",
      "  File \"C:\\Users\\DBetchkal\\AppData\\Local\\Continuum\\Anaconda3\\envs\\soundDB\\lib\\site-packages\\soundDB\\accessor.py\", line 499, in iterate\n",
      "    data = self.parse(entry, state= state) if state is not None else self.parse(entry)\n",
      "  File \"C:\\Users\\DBetchkal\\AppData\\Local\\Continuum\\Anaconda3\\envs\\soundDB\\lib\\site-packages\\soundDB\\parsers.py\", line 283, in parse\n",
      "    converted = pd.to_numeric(data[['MaxSPLt', 'SELt']], errors= \"coerce\")\n",
      "  File \"C:\\Users\\DBetchkal\\AppData\\Local\\Continuum\\Anaconda3\\envs\\soundDB\\lib\\site-packages\\pandas\\tools\\util.py\", line 101, in to_numeric\n",
      "    raise TypeError('arg must be a list, tuple, 1-d array, or Series')\n",
      "TypeError: arg must be a list, tuple, 1-d array, or Series\n",
      "\n",
      "Error while parsing \"K:\\AKRO Soundscape Data\\2015 DENASKGL SW Fork Kahiltna Glacier\\02 ANALYSIS\\SPL Analysis\\SRCID_DENASKGL.txt\":\n",
      "Traceback (most recent call last):\n",
      "  File \"C:\\Users\\DBetchkal\\AppData\\Local\\Continuum\\Anaconda3\\envs\\soundDB\\lib\\site-packages\\soundDB\\accessor.py\", line 499, in iterate\n",
      "    data = self.parse(entry, state= state) if state is not None else self.parse(entry)\n",
      "  File \"C:\\Users\\DBetchkal\\AppData\\Local\\Continuum\\Anaconda3\\envs\\soundDB\\lib\\site-packages\\soundDB\\parsers.py\", line 283, in parse\n",
      "    converted = pd.to_numeric(data[['MaxSPLt', 'SELt']], errors= \"coerce\")\n",
      "  File \"C:\\Users\\DBetchkal\\AppData\\Local\\Continuum\\Anaconda3\\envs\\soundDB\\lib\\site-packages\\pandas\\tools\\util.py\", line 101, in to_numeric\n",
      "    raise TypeError('arg must be a list, tuple, 1-d array, or Series')\n",
      "TypeError: arg must be a list, tuple, 1-d array, or Series\n",
      "\n",
      "Error while parsing \"K:\\AKRO Soundscape Data\\2015 KATMSWLA Swikshak Lagoon\\02 ANALYSIS\\SPL Analysis\\SRCID_KATMSWLA.txt\":\n",
      "Traceback (most recent call last):\n",
      "  File \"C:\\Users\\DBetchkal\\AppData\\Local\\Continuum\\Anaconda3\\envs\\soundDB\\lib\\site-packages\\soundDB\\accessor.py\", line 499, in iterate\n",
      "    data = self.parse(entry, state= state) if state is not None else self.parse(entry)\n",
      "  File \"C:\\Users\\DBetchkal\\AppData\\Local\\Continuum\\Anaconda3\\envs\\soundDB\\lib\\site-packages\\soundDB\\parsers.py\", line 283, in parse\n",
      "    converted = pd.to_numeric(data[['MaxSPLt', 'SELt']], errors= \"coerce\")\n",
      "  File \"C:\\Users\\DBetchkal\\AppData\\Local\\Continuum\\Anaconda3\\envs\\soundDB\\lib\\site-packages\\pandas\\tools\\util.py\", line 101, in to_numeric\n",
      "    raise TypeError('arg must be a list, tuple, 1-d array, or Series')\n",
      "TypeError: arg must be a list, tuple, 1-d array, or Series\n",
      "\n",
      "Error while parsing \"K:\\AKRO Soundscape Data\\2015 KATMVTTS Valley of Ten-Thousand Smokes\\02 ANALYSIS\\SPL Analysis\\SRCID_KATMVTTS.txt\":\n",
      "Traceback (most recent call last):\n",
      "  File \"C:\\Users\\DBetchkal\\AppData\\Local\\Continuum\\Anaconda3\\envs\\soundDB\\lib\\site-packages\\soundDB\\accessor.py\", line 499, in iterate\n",
      "    data = self.parse(entry, state= state) if state is not None else self.parse(entry)\n",
      "  File \"C:\\Users\\DBetchkal\\AppData\\Local\\Continuum\\Anaconda3\\envs\\soundDB\\lib\\site-packages\\soundDB\\parsers.py\", line 283, in parse\n",
      "    converted = pd.to_numeric(data[['MaxSPLt', 'SELt']], errors= \"coerce\")\n",
      "  File \"C:\\Users\\DBetchkal\\AppData\\Local\\Continuum\\Anaconda3\\envs\\soundDB\\lib\\site-packages\\pandas\\tools\\util.py\", line 101, in to_numeric\n",
      "    raise TypeError('arg must be a list, tuple, 1-d array, or Series')\n",
      "TypeError: arg must be a list, tuple, 1-d array, or Series\n",
      "\n",
      "Error while parsing \"K:\\AKRO Soundscape Data\\2016 KATMDORI Douglas River\\02 ANALYSIS\\SPL Analysis\\SRCID_KATMDORI.txt\":\n",
      "Traceback (most recent call last):\n",
      "  File \"C:\\Users\\DBetchkal\\AppData\\Local\\Continuum\\Anaconda3\\envs\\soundDB\\lib\\site-packages\\soundDB\\accessor.py\", line 499, in iterate\n",
      "    data = self.parse(entry, state= state) if state is not None else self.parse(entry)\n",
      "  File \"C:\\Users\\DBetchkal\\AppData\\Local\\Continuum\\Anaconda3\\envs\\soundDB\\lib\\site-packages\\soundDB\\parsers.py\", line 283, in parse\n",
      "    converted = pd.to_numeric(data[['MaxSPLt', 'SELt']], errors= \"coerce\")\n",
      "  File \"C:\\Users\\DBetchkal\\AppData\\Local\\Continuum\\Anaconda3\\envs\\soundDB\\lib\\site-packages\\pandas\\tools\\util.py\", line 101, in to_numeric\n",
      "    raise TypeError('arg must be a list, tuple, 1-d array, or Series')\n",
      "TypeError: arg must be a list, tuple, 1-d array, or Series\n",
      "\n",
      "Error while parsing \"K:\\AKRO Soundscape Data\\2016 KATMHALO Hallo Bay\\02 ANALYSIS\\SPL Analysis\\SRCID_KATMHALO.txt\":\n",
      "Traceback (most recent call last):\n",
      "  File \"C:\\Users\\DBetchkal\\AppData\\Local\\Continuum\\Anaconda3\\envs\\soundDB\\lib\\site-packages\\soundDB\\accessor.py\", line 499, in iterate\n",
      "    data = self.parse(entry, state= state) if state is not None else self.parse(entry)\n",
      "  File \"C:\\Users\\DBetchkal\\AppData\\Local\\Continuum\\Anaconda3\\envs\\soundDB\\lib\\site-packages\\soundDB\\parsers.py\", line 283, in parse\n",
      "    converted = pd.to_numeric(data[['MaxSPLt', 'SELt']], errors= \"coerce\")\n",
      "  File \"C:\\Users\\DBetchkal\\AppData\\Local\\Continuum\\Anaconda3\\envs\\soundDB\\lib\\site-packages\\pandas\\tools\\util.py\", line 101, in to_numeric\n",
      "    raise TypeError('arg must be a list, tuple, 1-d array, or Series')\n",
      "TypeError: arg must be a list, tuple, 1-d array, or Series\n",
      "\n",
      "Error while parsing \"K:\\AKRO Soundscape Data\\2016 KATMKABA Katmai Bay\\02 ANALYSIS\\SPL Analysis\\SRCID_KATMKABA.txt\":\n",
      "Traceback (most recent call last):\n",
      "  File \"C:\\Users\\DBetchkal\\AppData\\Local\\Continuum\\Anaconda3\\envs\\soundDB\\lib\\site-packages\\soundDB\\accessor.py\", line 499, in iterate\n",
      "    data = self.parse(entry, state= state) if state is not None else self.parse(entry)\n",
      "  File \"C:\\Users\\DBetchkal\\AppData\\Local\\Continuum\\Anaconda3\\envs\\soundDB\\lib\\site-packages\\soundDB\\parsers.py\", line 283, in parse\n",
      "    converted = pd.to_numeric(data[['MaxSPLt', 'SELt']], errors= \"coerce\")\n",
      "  File \"C:\\Users\\DBetchkal\\AppData\\Local\\Continuum\\Anaconda3\\envs\\soundDB\\lib\\site-packages\\pandas\\tools\\util.py\", line 101, in to_numeric\n",
      "    raise TypeError('arg must be a list, tuple, 1-d array, or Series')\n",
      "TypeError: arg must be a list, tuple, 1-d array, or Series\n",
      "\n"
     ]
    }
   ],
   "source": [
    "# a quick way to reference site names (if your folder structure has them)\n",
    "decoder = {entry.site: entry.name for entry, srcid in soundDB.srcid(ds)}\n",
    "\n",
    "# for me this spits back errors for every site that has a day without overflights..."
   ]
  },
  {
   "cell_type": "code",
   "execution_count": 61,
   "metadata": {
    "collapsed": false,
    "scrolled": true
   },
   "outputs": [
    {
     "data": {
      "text/plain": [
       "{'001': 'Brooks Camp Fish Freezer',\n",
       " '003': 'Lake Brooks',\n",
       " '005': 'Brooks Camp New Barge Landing',\n",
       " '006': 'Brooks Camp Visitor Center',\n",
       " '007': 'Brooks Camp Leach Field',\n",
       " '7MIL': '7 Mile',\n",
       " 'AMCR': 'American Creek',\n",
       " 'ANAK': 'Anaktuvuk Pass',\n",
       " 'BACK': 'Backside Lake',\n",
       " 'BASE': 'Kahiltna Base Camp',\n",
       " 'BEAR': 'Bear Creek',\n",
       " 'BELA': 'Beaver Lake',\n",
       " 'BLCR': 'Blind Creek',\n",
       " 'BLMT': 'Black Mountain',\n",
       " 'CABN': 'Cabin Peak',\n",
       " 'CARB': 'Caribou Creek',\n",
       " 'CARL': 'Carlson Creek',\n",
       " 'CATH': 'Cathedral Mountain',\n",
       " 'CEAK': 'Center Alaska',\n",
       " 'CHCR': 'Chitsia Creek',\n",
       " 'COPA': 'Cooper Creek',\n",
       " 'DUNK': 'Dunkle Hills',\n",
       " 'DUPO': 'Dumpling Point',\n",
       " 'EFK1': 'East Fork 1',\n",
       " 'ESTO': 'Estok',\n",
       " 'FANG': 'Fang Mountain',\n",
       " 'FLUM': 'Flume Creek',\n",
       " 'FOGG': 'Foggy Pass',\n",
       " 'HAUK': 'Hauke Creek',\n",
       " 'HEAL': 'Healy Ridge',\n",
       " 'HEGL': 'Herron Glacier',\n",
       " 'HERI': 'Herron River',\n",
       " 'HICR': 'Highpower Creek',\n",
       " 'HIDR': 'Hidden River',\n",
       " 'HIG1': 'Highway Pass 1',\n",
       " 'HIG2': 'Highway Pass 2',\n",
       " 'HOG2': 'Hogan Creek 2',\n",
       " 'HOG3': 'Hogan Creek 3',\n",
       " 'IGL1': 'Igloo Canyon',\n",
       " 'INES': 'Hines Creek',\n",
       " 'JOJO': 'Jojo Lake',\n",
       " 'KAHP': 'Kahiltna Pass',\n",
       " 'KICH': 'Kichatna Mountains',\n",
       " 'KUGU': 'Kugurorok River',\n",
       " 'LDAL': 'Lower Dall Glacier',\n",
       " 'LEFK': 'Lower East Fork Toklat',\n",
       " 'LELD': 'Lower Eldridge Glacier',\n",
       " 'LKAR': 'Lower Kantishna River',\n",
       " 'LMCR': 'Lower McKinley River',\n",
       " 'LSLC': 'Lower Slippery Creek',\n",
       " 'MBAR': 'McKinley Bar Trail',\n",
       " 'MLEE': 'Mount Lee',\n",
       " 'MULD': 'Muldrow Glacier',\n",
       " 'MURI': 'Muddy River',\n",
       " 'MYRT': 'Myrtle',\n",
       " 'McLE': 'McLeod Creek',\n",
       " 'McRI': 'McKinley River',\n",
       " 'NARV': 'Narvak Lake',\n",
       " 'NIZI': 'Nizina Chitistone Confluence',\n",
       " 'NTRL': 'North Triple Lakes Trail',\n",
       " 'NUTU': 'Nutuvukti Lake',\n",
       " 'NWAL': 'North Walker Lake',\n",
       " 'PFMI': 'Pfaff Mine',\n",
       " 'PICA': 'Pica Glacier',\n",
       " 'POL2': 'Polychrome 2',\n",
       " 'RUGL': 'Toe of the Ruth Glacier',\n",
       " 'SAN3': 'Sanctuary 3',\n",
       " 'STAM': 'Stampede Airstrip',\n",
       " 'SUSH': 'Sushana Ridge',\n",
       " 'TALA': 'Tanada Lake',\n",
       " 'TETH': 'Teklanika Thumb',\n",
       " 'THRI': 'Thorofare River',\n",
       " 'TKAH': 'Kahiltna Toe',\n",
       " 'TKAN': 'Toe of the Kanikula Glacier',\n",
       " 'TOKO': 'Toe of the Tokositna',\n",
       " 'TRLA': 'Triple Lakes',\n",
       " 'UDAL': 'Upper Dall Glacier',\n",
       " 'UEFK': 'Upper East Fork',\n",
       " 'UKAH': 'Upper Kahiltna Glacier',\n",
       " 'UOHI': 'Upper Ohio Glacier',\n",
       " 'UPEL': 'Upper Eldridge Glacier',\n",
       " 'UPST': 'Upper Straightaway Glacier',\n",
       " 'UPWC': 'Upper Wigand Creek',\n",
       " 'USLC': 'Upper Slippery Creek',\n",
       " 'UTOK': 'Upper Tokositna Glacier',\n",
       " 'UTRA': 'Upper Traleika Glacier',\n",
       " 'UWBT': 'Upper West Branch Toklat',\n",
       " 'UWFY': 'Upper West Fork Yentna River',\n",
       " 'UYEN': 'Upper Yentna Glacier',\n",
       " 'VABM': 'North VABM',\n",
       " 'WALK': 'Walker Lake',\n",
       " 'WEBU': 'West Buttress',\n",
       " 'WEKH': 'West Kantishna Hills',\n",
       " 'WFYR': 'West Fork Yentna River',\n",
       " 'WOCR': 'Wolf Creek'}"
      ]
     },
     "execution_count": 61,
     "metadata": {},
     "output_type": "execute_result"
    }
   ],
   "source": [
    "decoder"
   ]
  },
  {
   "cell_type": "code",
   "execution_count": 66,
   "metadata": {
    "collapsed": false
   },
   "outputs": [
    {
     "name": "stderr",
     "output_type": "stream",
     "text": [
      "100%|███████████████████████████████████████████████████████████████████████████████████████████████████| 1/1 [00:00<00:00, 20.83entries/s]\n"
     ]
    },
    {
     "data": {
      "image/png": "[encoded data removed]",
      "text/plain": [
       "<matplotlib.figure.Figure at 0x88f5e48>"
      ]
     },
     "metadata": {},
     "output_type": "display_data"
    },
    {
     "name": "stderr",
     "output_type": "stream",
     "text": [
      "100%|███████████████████████████████████████████████████████████████████████████████████████████████████| 1/1 [00:00<00:00, 31.06entries/s]\n"
     ]
    },
    {
     "data": {
      "image/png": "[encoded data removed]",
      "text/plain": [
       "<matplotlib.figure.Figure at 0x886e710>"
      ]
     },
     "metadata": {},
     "output_type": "display_data"
    }
   ],
   "source": [
    "# plot for median percent time audible\n",
    "\n",
    "site = \"DUNK\"\n",
    "year = \"2002\"\n",
    "dailypa = soundDB.dailypa(ds, site=site).combine()\n",
    "toPlot = quantile_dailyPA(dailypa, 0.5, source=\"air\")\n",
    "\n",
    "f = plt.figure(figsize=(18, 10))\n",
    "\n",
    "plt.title('Percentage of Time Aircraft Were Audible By Hour, ' + decoder[site], color='black', fontsize=28, position=(0.5,1.02))\n",
    "toPlot.plot(kind='bar', y=toPlot, color=\"k\", width=0.95)\n",
    "plt.ylabel('50th Percentile Time Audible (%)', size = 16, labelpad=20)\n",
    "plt.xlabel('Hour of the Day', size = 16, labelpad=20)\n",
    "plt.show()\n",
    "\n",
    "# or, what does the (hypothetically) 'worst' day look like?  90th percentile of all hours\n",
    "toPlot = quantile_dailyPA(soundDB.dailypa(ds, site=site).combine(), 0.95)\n",
    "\n",
    "f = plt.figure(figsize=(18, 10))\n",
    "\n",
    "plt.title('Percentage of Time Aircraft Were Audible By Hour, ' + decoder[site], color='black', fontsize=28, position=(0.5,1.02))\n",
    "toPlot.plot(kind='bar', y=toPlot, color=\"k\", width=0.95)\n",
    "plt.ylabel('95th Percentile Time Audible (%)', size = 16, labelpad=20)\n",
    "plt.xlabel('Hour of the Day', size = 16, labelpad=20)\n",
    "plt.show()\n",
    "\n",
    "# f.savefig(r'C:\\Users\\Taylor Stinchcomb\\Desktop\\ICERD_HourlyPercentTimeAudibleAircraft.png', dpi=f.dpi,  bbox_inches='tight')"
   ]
  },
  {
   "cell_type": "code",
   "execution_count": 69,
   "metadata": {
    "collapsed": false
   },
   "outputs": [
    {
     "name": "stderr",
     "output_type": "stream",
     "text": [
      "100%|███████████████████████████████████████████████████████████████████████████████████████████████████| 1/1 [00:00<00:00, 99.99entries/s]\n",
      "100%|███████████████████████████████████████████████████████████████████████████████████████████████████| 1/1 [00:00<00:00,  7.58entries/s]\n"
     ]
    },
    {
     "name": "stdout",
     "output_type": "stream",
     "text": [
      "median of 46.3 dBA SEL for propeller aircraft sources at WEKH\n",
      "median of 30.2 dBA MaxSPL for propeller aircraft sources at WEKH, a level ~ 3 times as loud as the natural environment.\n"
     ]
    }
   ],
   "source": [
    "# what about amplitude?\n",
    "\n",
    "site = \"WEKH\"\n",
    "\n",
    "srcid = soundDB.srcid(ds, site=site).combine()\n",
    "\n",
    "SEL50 = quantile_SEL(srcid, 0.5, source=1.2)\n",
    "Lmax50 = quantile_Lmax(srcid, 0.5, source=1.2)\n",
    "lnat = Lnat(soundDB.metrics(ds, site=site).combine())\n",
    "\n",
    "print(\"median of\", SEL50, \"dBA SEL for propeller aircraft sources at\", site)\n",
    "print(\"median of\", Lmax50, \"dBA MaxSPL for propeller aircraft sources at\", site +\n",
    "      \", a level ~\", int(pow(2, (Lmax50-lnat)/6.0)),\"times as loud as the natural environment.\")\n"
   ]
  },
  {
   "cell_type": "code",
   "execution_count": 71,
   "metadata": {
    "collapsed": false
   },
   "outputs": [
    {
     "name": "stderr",
     "output_type": "stream",
     "text": [
      "100%|██████████████████████████████████████████████████████████████████████████████████████████████████| 1/1 [00:00<00:00, 124.99entries/s]\n"
     ]
    },
    {
     "name": "stdout",
     "output_type": "stream",
     "text": [
      "a prop-to-jet ratio of 1.81538461538 indicates about twice as many props as jets at West Kantishna Hills\n"
     ]
    }
   ],
   "source": [
    "print(\"a prop-to-jet ratio of\", propJetRatio(soundDB.srcid(ds, site=site).combine()), \n",
    "      \"indicates about twice as many props as jets at\", decoder[site])"
   ]
  },
  {
   "cell_type": "code",
   "execution_count": 73,
   "metadata": {
    "collapsed": false
   },
   "outputs": [
    {
     "name": "stderr",
     "output_type": "stream",
     "text": [
      "100%|███████████████████████████████████████████████████████████████████████████████████████████████████| 1/1 [00:00<00:00, 17.54entries/s]\n"
     ]
    },
    {
     "name": "stdout",
     "output_type": "stream",
     "text": [
      "Of the 1176 hours sampled, 14.71%, (or 173 hours) have at least one propeller aircraft event.\n"
     ]
    }
   ],
   "source": [
    "dailypa = soundDB.dailypa(ds, site=site).combine()\n",
    "\n",
    "num_hours, perc = event_saturation(dailypa, start_hour = 0, end_hour = 23, source = 1.2)\n",
    "print(\"Of the\", num_hours, \"hours sampled,\", '{:.2f}'.format(perc) + \n",
    "      \"%, (or \" + str(int(num_hours*(perc/100)))+ \" hours) have at least one propeller aircraft event.\")"
   ]
  }
 ],
 "metadata": {
  "anaconda-cloud": {},
  "kernelspec": {
   "display_name": "soundDB",
   "language": "python",
   "name": "sounddb"
  },
  "language_info": {
   "codemirror_mode": {
    "name": "ipython",
    "version": 3
   },
   "file_extension": ".py",
   "mimetype": "text/x-python",
   "name": "python",
   "nbconvert_exporter": "python",
   "pygments_lexer": "ipython3",
   "version": "3.5.3"
  }
 },
 "nbformat": 4,
 "nbformat_minor": 1
}
